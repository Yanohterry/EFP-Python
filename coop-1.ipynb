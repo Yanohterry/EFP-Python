{
 "cells": [
  {
   "cell_type": "code",
   "execution_count": null,
   "metadata": {},
   "outputs": [],
   "source": []
  },
  {
   "cell_type": "code",
   "execution_count": 3,
   "metadata": {},
   "outputs": [],
   "source": [
    "import numpy as np \n",
    "import random\n",
    "def indice (x): \n",
    "    b = []\n",
    "    a = np.array([random.randint(1,10) for _ in  range(10)]) \n",
    "\n",
    "    for i in range (len(a)):\n",
    "        for j in range  (len(a)):\n",
    "            if a[i]+a[j] == x:\n",
    "                b.append((i,j))\n",
    "    print (a)          \n",
    "    print (b)"
   ]
  },
  {
   "cell_type": "code",
   "execution_count": 5,
   "metadata": {},
   "outputs": [
    {
     "name": "stdout",
     "output_type": "stream",
     "text": [
      "[ 4 10  3  5  3 10  2  3  8  6]\n",
      "[(2, 6), (4, 6), (6, 2), (6, 4), (6, 7), (7, 6)]\n"
     ]
    }
   ],
   "source": [
    "indice(5)"
   ]
  },
  {
   "cell_type": "code",
   "execution_count": null,
   "metadata": {},
   "outputs": [],
   "source": []
  }
 ],
 "metadata": {
  "kernelspec": {
   "display_name": "data_prep",
   "language": "python",
   "name": "python3"
  },
  "language_info": {
   "codemirror_mode": {
    "name": "ipython",
    "version": 3
   },
   "file_extension": ".py",
   "mimetype": "text/x-python",
   "name": "python",
   "nbconvert_exporter": "python",
   "pygments_lexer": "ipython3",
   "version": "3.12.5"
  }
 },
 "nbformat": 4,
 "nbformat_minor": 2
}
